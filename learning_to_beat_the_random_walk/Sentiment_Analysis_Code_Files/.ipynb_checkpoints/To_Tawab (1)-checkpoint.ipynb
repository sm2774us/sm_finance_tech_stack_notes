{
 "cells": [
  {
   "cell_type": "markdown",
   "metadata": {},
   "source": [
    "# Import and Slice text"
   ]
  },
  {
   "cell_type": "code",
   "execution_count": 2,
   "metadata": {},
   "outputs": [],
   "source": [
    "import pandas as pd\n",
    "df_all= pd.read_pickle(r\"C:\\Users\\shaos\\Downloads\\allSep23.pkl\")"
   ]
  },
  {
   "cell_type": "code",
   "execution_count": 8,
   "metadata": {},
   "outputs": [],
   "source": [
    "articles = list()\n",
    "for i in range(3856):\n",
    "    articles.append(df_all.iloc[i].Article)\n"
   ]
  },
  {
   "cell_type": "code",
   "execution_count": 30,
   "metadata": {},
   "outputs": [
    {
     "data": {
      "text/html": [
       "<div>\n",
       "<style scoped>\n",
       "    .dataframe tbody tr th:only-of-type {\n",
       "        vertical-align: middle;\n",
       "    }\n",
       "\n",
       "    .dataframe tbody tr th {\n",
       "        vertical-align: top;\n",
       "    }\n",
       "\n",
       "    .dataframe thead th {\n",
       "        text-align: right;\n",
       "    }\n",
       "</style>\n",
       "<table border=\"1\" class=\"dataframe\">\n",
       "  <thead>\n",
       "    <tr style=\"text-align: right;\">\n",
       "      <th></th>\n",
       "      <th>Article</th>\n",
       "      <th>Date</th>\n",
       "    </tr>\n",
       "  </thead>\n",
       "  <tbody>\n",
       "    <tr>\n",
       "      <th>0</th>\n",
       "      <td>\\nAs the Brexit deadline of Oct. 31 approaches...</td>\n",
       "      <td>14 Sep 2019</td>\n",
       "    </tr>\n",
       "    <tr>\n",
       "      <th>1</th>\n",
       "      <td>\\nSome of the stocks worst hit by Brexit uncer...</td>\n",
       "      <td>10 Sep 2019</td>\n",
       "    </tr>\n",
       "    <tr>\n",
       "      <th>2</th>\n",
       "      <td>\\nThis is on the danger of pushing it too far....</td>\n",
       "      <td>07 Sep 2019</td>\n",
       "    </tr>\n",
       "    <tr>\n",
       "      <th>3</th>\n",
       "      <td>\\nLONDON -- Prime Minister Boris Johnson suffe...</td>\n",
       "      <td>06 Sep 2019</td>\n",
       "    </tr>\n",
       "    <tr>\n",
       "      <th>4</th>\n",
       "      <td>\\nLONDON -- British lawmakers imposed twin def...</td>\n",
       "      <td>05 Sep 2019</td>\n",
       "    </tr>\n",
       "    <tr>\n",
       "      <th>5</th>\n",
       "      <td>\\nEurope had an awful summer. It started with ...</td>\n",
       "      <td>30 Aug 2019</td>\n",
       "    </tr>\n",
       "    <tr>\n",
       "      <th>6</th>\n",
       "      <td>\\nU.K. Prime Minister Boris Johnson has moved ...</td>\n",
       "      <td>29 Aug 2019</td>\n",
       "    </tr>\n",
       "    <tr>\n",
       "      <th>7</th>\n",
       "      <td>\\nWhile many investors are nervous about Brexi...</td>\n",
       "      <td>24 Aug 2019</td>\n",
       "    </tr>\n",
       "    <tr>\n",
       "      <th>8</th>\n",
       "      <td>\\nBritish Prime Minister Boris Johnson told Ge...</td>\n",
       "      <td>22 Aug 2019</td>\n",
       "    </tr>\n",
       "    <tr>\n",
       "      <th>9</th>\n",
       "      <td>\\nEurope is facing a season of political turmo...</td>\n",
       "      <td>10 Aug 2019</td>\n",
       "    </tr>\n",
       "    <tr>\n",
       "      <th>10</th>\n",
       "      <td>\\nLONDON -- An abrupt and messy split between ...</td>\n",
       "      <td>02 Aug 2019</td>\n",
       "    </tr>\n",
       "    <tr>\n",
       "      <th>11</th>\n",
       "      <td>\\nLONDON -- Prime Minister Boris Johnson refus...</td>\n",
       "      <td>30 July 2019</td>\n",
       "    </tr>\n",
       "    <tr>\n",
       "      <th>12</th>\n",
       "      <td>\\nIn the first paragraph of \"Why the EU Lost M...</td>\n",
       "      <td>29 July 2019</td>\n",
       "    </tr>\n",
       "    <tr>\n",
       "      <th>13</th>\n",
       "      <td>\\nLONDON -- Dominic Cummings, an architect of ...</td>\n",
       "      <td>27 July 2019</td>\n",
       "    </tr>\n",
       "    <tr>\n",
       "      <th>14</th>\n",
       "      <td>\\nFor new U.K. Prime Minister Boris Johnson, B...</td>\n",
       "      <td>25 July 2019</td>\n",
       "    </tr>\n",
       "    <tr>\n",
       "      <th>15</th>\n",
       "      <td>\\nLong Melford, England -- Of all the lazy cri...</td>\n",
       "      <td>23 July 2019</td>\n",
       "    </tr>\n",
       "    <tr>\n",
       "      <th>16</th>\n",
       "      <td>\\nLONDON -- The resignation this week of Brita...</td>\n",
       "      <td>12 July 2019</td>\n",
       "    </tr>\n",
       "    <tr>\n",
       "      <th>17</th>\n",
       "      <td>\\nThe special U.S.-British relationship is now...</td>\n",
       "      <td>10 July 2019</td>\n",
       "    </tr>\n",
       "    <tr>\n",
       "      <th>18</th>\n",
       "      <td>\\nWASHINGTON -- President Trump took a swipe a...</td>\n",
       "      <td>09 July 2019</td>\n",
       "    </tr>\n",
       "    <tr>\n",
       "      <th>19</th>\n",
       "      <td>\\nDonald Trump, the best golfer ever to set up...</td>\n",
       "      <td>06 June 2019</td>\n",
       "    </tr>\n",
       "    <tr>\n",
       "      <th>20</th>\n",
       "      <td>\\nLONDON -- U.K. lawmaker Boris Johnson, the l...</td>\n",
       "      <td>30 May 2019</td>\n",
       "    </tr>\n",
       "    <tr>\n",
       "      <th>21</th>\n",
       "      <td>\\n[Financial Analysis and Commentary]\\nSterlin...</td>\n",
       "      <td>25 May 2019</td>\n",
       "    </tr>\n",
       "    <tr>\n",
       "      <th>22</th>\n",
       "      <td>\\nAs the U.K. stumbles on its way out of the E...</td>\n",
       "      <td>23 May 2019</td>\n",
       "    </tr>\n",
       "    <tr>\n",
       "      <th>23</th>\n",
       "      <td>\\nGold prices edged higher Wednesday, boosted ...</td>\n",
       "      <td>23 May 2019</td>\n",
       "    </tr>\n",
       "    <tr>\n",
       "      <th>24</th>\n",
       "      <td>\\nWhat is it with the Brits? Never known for t...</td>\n",
       "      <td>18 May 2019</td>\n",
       "    </tr>\n",
       "    <tr>\n",
       "      <th>25</th>\n",
       "      <td>\\nTURKEY\\nU.S. Reduces Special\\nDuty on Steel ...</td>\n",
       "      <td>17 May 2019</td>\n",
       "    </tr>\n",
       "    <tr>\n",
       "      <th>26</th>\n",
       "      <td>\\nUNITED KINGDOM\\nLawmakers See Little\\nProgre...</td>\n",
       "      <td>15 May 2019</td>\n",
       "    </tr>\n",
       "    <tr>\n",
       "      <th>27</th>\n",
       "      <td>\\nUncertainty over Brexit is spilling into the...</td>\n",
       "      <td>10 Apr 2019</td>\n",
       "    </tr>\n",
       "    <tr>\n",
       "      <th>28</th>\n",
       "      <td>\\nLONDON -- Friday was meant to be the day the...</td>\n",
       "      <td>29 Mar 2019</td>\n",
       "    </tr>\n",
       "    <tr>\n",
       "      <th>29</th>\n",
       "      <td>\\nAs an Englishman who's made his home in Amer...</td>\n",
       "      <td>23 Mar 2019</td>\n",
       "    </tr>\n",
       "    <tr>\n",
       "      <th>...</th>\n",
       "      <td>...</td>\n",
       "      <td>...</td>\n",
       "    </tr>\n",
       "    <tr>\n",
       "      <th>458</th>\n",
       "      <td>This week's \"Brexit\" referendum has Great ...</td>\n",
       "      <td>24 June 2016</td>\n",
       "    </tr>\n",
       "    <tr>\n",
       "      <th>459</th>\n",
       "      <td>[ ARTISTS, ACTORS WEIGH IN ON THE U.K.'S P...</td>\n",
       "      <td>23 June 2016</td>\n",
       "    </tr>\n",
       "    <tr>\n",
       "      <th>460</th>\n",
       "      <td>\\n\\n \\n\\nLONDON -- Oil prices, recently buoyed...</td>\n",
       "      <td>23 June 2016</td>\n",
       "    </tr>\n",
       "    <tr>\n",
       "      <th>461</th>\n",
       "      <td>\\n\\n \\n\\nIn the Royal Shakespeare Company's re...</td>\n",
       "      <td>22 June 2016</td>\n",
       "    </tr>\n",
       "    <tr>\n",
       "      <th>462</th>\n",
       "      <td>\\n\\n \\n\\nThere's a familiar pattern for how ma...</td>\n",
       "      <td>22 June 2016</td>\n",
       "    </tr>\n",
       "    <tr>\n",
       "      <th>463</th>\n",
       "      <td>\\n\\n \\n\\nThe U.K.'s pending vote on European U...</td>\n",
       "      <td>21 June 2016</td>\n",
       "    </tr>\n",
       "    <tr>\n",
       "      <th>464</th>\n",
       "      <td>The U.K. may be less than two weeks away f...</td>\n",
       "      <td>21 June 2016</td>\n",
       "    </tr>\n",
       "    <tr>\n",
       "      <th>465</th>\n",
       "      <td>\\n\\n \\n\\nThe U.K. may be less than two weeks a...</td>\n",
       "      <td>21 June 2016</td>\n",
       "    </tr>\n",
       "    <tr>\n",
       "      <th>466</th>\n",
       "      <td>\\n\\n \\n\\nLONDON -- U.K. Prime Minister David C...</td>\n",
       "      <td>20 June 2016</td>\n",
       "    </tr>\n",
       "    <tr>\n",
       "      <th>467</th>\n",
       "      <td>\\n\\n \\n\\nThis wasn't what was supposed to happ...</td>\n",
       "      <td>20 June 2016</td>\n",
       "    </tr>\n",
       "    <tr>\n",
       "      <th>468</th>\n",
       "      <td>When British Prime Minister David Cameron ...</td>\n",
       "      <td>17 June 2016</td>\n",
       "    </tr>\n",
       "    <tr>\n",
       "      <th>469</th>\n",
       "      <td>London -- The debate about whether Britain...</td>\n",
       "      <td>17 June 2016</td>\n",
       "    </tr>\n",
       "    <tr>\n",
       "      <th>470</th>\n",
       "      <td>\\n\\n \\n\\nPresident Obama arrives in London Thu...</td>\n",
       "      <td>16 June 2016</td>\n",
       "    </tr>\n",
       "    <tr>\n",
       "      <th>471</th>\n",
       "      <td>\\n\\n \\n\\nLondon -- When in London this week, P...</td>\n",
       "      <td>15 June 2016</td>\n",
       "    </tr>\n",
       "    <tr>\n",
       "      <th>472</th>\n",
       "      <td>Banks in the U.K. have a message for emplo...</td>\n",
       "      <td>14 June 2016</td>\n",
       "    </tr>\n",
       "    <tr>\n",
       "      <th>473</th>\n",
       "      <td>\\n\\n \\n\\nA vast construction site in the heart...</td>\n",
       "      <td>13 June 2016</td>\n",
       "    </tr>\n",
       "    <tr>\n",
       "      <th>474</th>\n",
       "      <td>When President Barack Obama stops over in ...</td>\n",
       "      <td>13 June 2016</td>\n",
       "    </tr>\n",
       "    <tr>\n",
       "      <th>475</th>\n",
       "      <td>\\n\\n \\n\\nWhen President Barack Obama stops ove...</td>\n",
       "      <td>13 June 2016</td>\n",
       "    </tr>\n",
       "    <tr>\n",
       "      <th>476</th>\n",
       "      <td>\\n\\n \\n\\nPolitics have been a major risk for E...</td>\n",
       "      <td>06 June 2016</td>\n",
       "    </tr>\n",
       "    <tr>\n",
       "      <th>477</th>\n",
       "      <td>\\n\\n \\n\\nAs British Prime Minister David Camer...</td>\n",
       "      <td>02 May 2016</td>\n",
       "    </tr>\n",
       "    <tr>\n",
       "      <th>478</th>\n",
       "      <td>\\n\\n \\n\\nCorrections &amp; Amplifications\\n\\n\\nEwe...</td>\n",
       "      <td>23 Apr 2016</td>\n",
       "    </tr>\n",
       "    <tr>\n",
       "      <th>479</th>\n",
       "      <td>With the United Kingdom counting down to a...</td>\n",
       "      <td>22 Apr 2016</td>\n",
       "    </tr>\n",
       "    <tr>\n",
       "      <th>480</th>\n",
       "      <td>\\n\\n \\n\\nA \"Brexit\" could halt the recent rush...</td>\n",
       "      <td>18 Apr 2016</td>\n",
       "    </tr>\n",
       "    <tr>\n",
       "      <th>481</th>\n",
       "      <td>LONDON -- In June, Britons will vote on wh...</td>\n",
       "      <td>16 Apr 2016</td>\n",
       "    </tr>\n",
       "    <tr>\n",
       "      <th>482</th>\n",
       "      <td>\\n\\n \\n\\nLONDON -- A referendum looms over the...</td>\n",
       "      <td>12 Apr 2016</td>\n",
       "    </tr>\n",
       "    <tr>\n",
       "      <th>483</th>\n",
       "      <td>\\n\\n \\n\\nMargaret Thatcher predicted that it w...</td>\n",
       "      <td>11 Apr 2016</td>\n",
       "    </tr>\n",
       "    <tr>\n",
       "      <th>484</th>\n",
       "      <td>\\n\\n \\n\\nWith Britain's referendum on whether ...</td>\n",
       "      <td>11 Apr 2016</td>\n",
       "    </tr>\n",
       "    <tr>\n",
       "      <th>485</th>\n",
       "      <td>Margaret Thatcher predicted that it would ...</td>\n",
       "      <td>01 Apr 2016</td>\n",
       "    </tr>\n",
       "    <tr>\n",
       "      <th>486</th>\n",
       "      <td>\\n\\n \\n\\nA British referendum on whether to re...</td>\n",
       "      <td>04 Mar 2016</td>\n",
       "    </tr>\n",
       "    <tr>\n",
       "      <th>487</th>\n",
       "      <td>A British referendum on whether to remain ...</td>\n",
       "      <td>02 Mar 2016</td>\n",
       "    </tr>\n",
       "  </tbody>\n",
       "</table>\n",
       "<p>3856 rows × 2 columns</p>\n",
       "</div>"
      ],
      "text/plain": [
       "                                               Article          Date\n",
       "0    \\nAs the Brexit deadline of Oct. 31 approaches...   14 Sep 2019\n",
       "1    \\nSome of the stocks worst hit by Brexit uncer...   10 Sep 2019\n",
       "2    \\nThis is on the danger of pushing it too far....   07 Sep 2019\n",
       "3    \\nLONDON -- Prime Minister Boris Johnson suffe...   06 Sep 2019\n",
       "4    \\nLONDON -- British lawmakers imposed twin def...   05 Sep 2019\n",
       "5    \\nEurope had an awful summer. It started with ...   30 Aug 2019\n",
       "6    \\nU.K. Prime Minister Boris Johnson has moved ...   29 Aug 2019\n",
       "7    \\nWhile many investors are nervous about Brexi...   24 Aug 2019\n",
       "8    \\nBritish Prime Minister Boris Johnson told Ge...   22 Aug 2019\n",
       "9    \\nEurope is facing a season of political turmo...   10 Aug 2019\n",
       "10   \\nLONDON -- An abrupt and messy split between ...   02 Aug 2019\n",
       "11   \\nLONDON -- Prime Minister Boris Johnson refus...  30 July 2019\n",
       "12   \\nIn the first paragraph of \"Why the EU Lost M...  29 July 2019\n",
       "13   \\nLONDON -- Dominic Cummings, an architect of ...  27 July 2019\n",
       "14   \\nFor new U.K. Prime Minister Boris Johnson, B...  25 July 2019\n",
       "15   \\nLong Melford, England -- Of all the lazy cri...  23 July 2019\n",
       "16   \\nLONDON -- The resignation this week of Brita...  12 July 2019\n",
       "17   \\nThe special U.S.-British relationship is now...  10 July 2019\n",
       "18   \\nWASHINGTON -- President Trump took a swipe a...  09 July 2019\n",
       "19   \\nDonald Trump, the best golfer ever to set up...  06 June 2019\n",
       "20   \\nLONDON -- U.K. lawmaker Boris Johnson, the l...   30 May 2019\n",
       "21   \\n[Financial Analysis and Commentary]\\nSterlin...   25 May 2019\n",
       "22   \\nAs the U.K. stumbles on its way out of the E...   23 May 2019\n",
       "23   \\nGold prices edged higher Wednesday, boosted ...   23 May 2019\n",
       "24   \\nWhat is it with the Brits? Never known for t...   18 May 2019\n",
       "25   \\nTURKEY\\nU.S. Reduces Special\\nDuty on Steel ...   17 May 2019\n",
       "26   \\nUNITED KINGDOM\\nLawmakers See Little\\nProgre...   15 May 2019\n",
       "27   \\nUncertainty over Brexit is spilling into the...   10 Apr 2019\n",
       "28   \\nLONDON -- Friday was meant to be the day the...   29 Mar 2019\n",
       "29   \\nAs an Englishman who's made his home in Amer...   23 Mar 2019\n",
       "..                                                 ...           ...\n",
       "458      This week's \"Brexit\" referendum has Great ...  24 June 2016\n",
       "459      [ ARTISTS, ACTORS WEIGH IN ON THE U.K.'S P...  23 June 2016\n",
       "460  \\n\\n \\n\\nLONDON -- Oil prices, recently buoyed...  23 June 2016\n",
       "461  \\n\\n \\n\\nIn the Royal Shakespeare Company's re...  22 June 2016\n",
       "462  \\n\\n \\n\\nThere's a familiar pattern for how ma...  22 June 2016\n",
       "463  \\n\\n \\n\\nThe U.K.'s pending vote on European U...  21 June 2016\n",
       "464      The U.K. may be less than two weeks away f...  21 June 2016\n",
       "465  \\n\\n \\n\\nThe U.K. may be less than two weeks a...  21 June 2016\n",
       "466  \\n\\n \\n\\nLONDON -- U.K. Prime Minister David C...  20 June 2016\n",
       "467  \\n\\n \\n\\nThis wasn't what was supposed to happ...  20 June 2016\n",
       "468      When British Prime Minister David Cameron ...  17 June 2016\n",
       "469      London -- The debate about whether Britain...  17 June 2016\n",
       "470  \\n\\n \\n\\nPresident Obama arrives in London Thu...  16 June 2016\n",
       "471  \\n\\n \\n\\nLondon -- When in London this week, P...  15 June 2016\n",
       "472      Banks in the U.K. have a message for emplo...  14 June 2016\n",
       "473  \\n\\n \\n\\nA vast construction site in the heart...  13 June 2016\n",
       "474      When President Barack Obama stops over in ...  13 June 2016\n",
       "475  \\n\\n \\n\\nWhen President Barack Obama stops ove...  13 June 2016\n",
       "476  \\n\\n \\n\\nPolitics have been a major risk for E...  06 June 2016\n",
       "477  \\n\\n \\n\\nAs British Prime Minister David Camer...   02 May 2016\n",
       "478  \\n\\n \\n\\nCorrections & Amplifications\\n\\n\\nEwe...   23 Apr 2016\n",
       "479      With the United Kingdom counting down to a...   22 Apr 2016\n",
       "480  \\n\\n \\n\\nA \"Brexit\" could halt the recent rush...   18 Apr 2016\n",
       "481      LONDON -- In June, Britons will vote on wh...   16 Apr 2016\n",
       "482  \\n\\n \\n\\nLONDON -- A referendum looms over the...   12 Apr 2016\n",
       "483  \\n\\n \\n\\nMargaret Thatcher predicted that it w...   11 Apr 2016\n",
       "484  \\n\\n \\n\\nWith Britain's referendum on whether ...   11 Apr 2016\n",
       "485      Margaret Thatcher predicted that it would ...   01 Apr 2016\n",
       "486  \\n\\n \\n\\nA British referendum on whether to re...   04 Mar 2016\n",
       "487      A British referendum on whether to remain ...   02 Mar 2016\n",
       "\n",
       "[3856 rows x 2 columns]"
      ]
     },
     "execution_count": 30,
     "metadata": {},
     "output_type": "execute_result"
    }
   ],
   "source": [
    "df_all"
   ]
  },
  {
   "cell_type": "code",
   "execution_count": 5,
   "metadata": {
    "scrolled": true
   },
   "outputs": [
    {
     "data": {
      "text/plain": [
       "['',\n",
       " \"Some of the stocks worst hit by Brexit uncertainty aren't in the U.K.: They are Irish banks.\",\n",
       " \"The Republic of Ireland's two largest lenders are among the worst-performing European banks this year, according to FactSet data.\",\n",
       " \"Shares in AIB Group PLC and Bank of Ireland Group PLC began a sharp decline when Boris Johnson took over as the U.K.'s prime minister at the end of July.\",\n",
       " \"His determination to pull out of the European Union by Oct. 31 fueled investors' concerns that he would engineer the exit even without a trade deal in place. That has left AIB stock hovering near a record low, while Bank of Ireland has risen slightly in recent days from its weakest level in almost six years.\",\n",
       " \"The Irish and British economies are closely tied -- Ireland is the U.K.'s fifth-largest export market and ninth-largest source of imports -- and any economic turmoil that ensues if the U.K. crashes out of the EU without a deal is likely to have a contagion impact on Ireland.\",\n",
       " \"Shares in the two banks have been a barometer for investors' expectations about Irish growth prospects.\",\n",
       " '\"It\\'s purely the Brexit effect,\" said Simon Adamson, senior European bank analyst at CreditSights. \"It\\'s more the fear that any economic weakness on the back of Brexit would push itself onto the banks\\' balance sheets.\"',\n",
       " 'Shares of AIB, commonly known as Allied Irish Banks, have fallen about 34% this quarter, in their steepest descent since the three months ended June 2016.',\n",
       " 'Bank of Ireland has fallen about 17%.',\n",
       " \"The uncertainty surrounding Brexit is already weighing on banks' profitability as businesses take out fewer loans, according to Daragh Quinn, a European bank analyst at Keefe, Bruyette & Woods Inc.\",\n",
       " '\"You\\'re not seeing a lot of top-line growth because of some of the macroeconomic forces,\" Mr. Quinn said.',\n",
       " \"The souring outlook comes just as the banks showed signs of finally emerging from the 2008 financial crisis, which weighed the lenders down with bad debts as Ireland's property market crashed, and forced them to take a government bailout.\",\n",
       " 'While both AIB and the Bank of Ireland have reduced their nonperforming loans, they remain under pressure from the European Central Bank to pare their exposure further.',\n",
       " \"The central bank is requiring them to reduce their ratio of these loans to the eurozone norm of around 5% by the end of the year. S&P Global Inc. estimated Irish banks' nonperforming assets to be above 12% of outstanding customer loans as of December 2018, down from over 35% at the end of 2014.\",\n",
       " 'Representatives for AIB declined to comment. Bank of Ireland said in a statement that it cannot control share-price volatility brought on by external factors but that \"creating the longer-term intrinsic value of the Bank is our focus.\"',\n",
       " '\"Obviously, the big unknown is Brexit,\" said Mr. Adamson. \"It is well seen as potentially stalling or reversing that recovery.\"',\n",
       " 'Historically low borrowing costs -- which appear poised to fall even lower -- have also dampened investor appetite, said Anastasia Turdyeva, an analyst at S&P Global Inc. As central banks cut rates, it becomes more difficult for lenders to generate money from lending operations.',\n",
       " 'The market expects the ECB to cut rates by 0.1 percentage point later this week, with another 0.2-point reduction likely over the following year, according to forecasts from Swiss bank UBS.',\n",
       " 'However, the underperformance of Irish banks looks more tied to political uncertainty than anything else, and investors are waiting to see what happens, Mr. Quinn said.',\n",
       " '\"A lot will depend on what happens in the U.K.,\" he said.',\n",
       " '',\n",
       " '',\n",
       " 'Credit: By Caitlin Ostroff ']"
      ]
     },
     "execution_count": 5,
     "metadata": {},
     "output_type": "execute_result"
    }
   ],
   "source": [
    "articles[1].split('\\n')"
   ]
  },
  {
   "cell_type": "code",
   "execution_count": 6,
   "metadata": {},
   "outputs": [],
   "source": [
    "docs_btext = list()\n",
    "b_text = list()\n",
    "for doc in articles:\n",
    "    b_text = list()\n",
    "    for line in doc.split('\\n'):\n",
    "        if \"Brexit\" in line:\n",
    "            b_text.append(line)\n",
    "    docs_btext.append(b_text)"
   ]
  },
  {
   "cell_type": "code",
   "execution_count": 7,
   "metadata": {
    "scrolled": true
   },
   "outputs": [
    {
     "data": {
      "text/plain": [
       "3856"
      ]
     },
     "execution_count": 7,
     "metadata": {},
     "output_type": "execute_result"
    }
   ],
   "source": [
    "len(docs_btext)"
   ]
  },
  {
   "cell_type": "code",
   "execution_count": null,
   "metadata": {},
   "outputs": [],
   "source": [
    "articles = [ str(article) for article in docs_btext]"
   ]
  },
  {
   "cell_type": "code",
   "execution_count": null,
   "metadata": {},
   "outputs": [],
   "source": [
    "df_all"
   ]
  },
  {
   "cell_type": "code",
   "execution_count": null,
   "metadata": {},
   "outputs": [],
   "source": []
  },
  {
   "cell_type": "code",
   "execution_count": null,
   "metadata": {},
   "outputs": [],
   "source": []
  },
  {
   "cell_type": "markdown",
   "metadata": {},
   "source": [
    "# Import SpaCy"
   ]
  },
  {
   "cell_type": "code",
   "execution_count": null,
   "metadata": {},
   "outputs": [],
   "source": [
    "import spacy\n",
    "nlp = spacy.load('en_core_web_lg')"
   ]
  },
  {
   "cell_type": "code",
   "execution_count": null,
   "metadata": {},
   "outputs": [],
   "source": [
    "docs = [nlp(d) for d in articles] # articles is corpus where d is a single article "
   ]
  },
  {
   "cell_type": "code",
   "execution_count": null,
   "metadata": {},
   "outputs": [],
   "source": [
    "# Add '\\n' and '\\n\\n' to stop words\n",
    "nlp.vocab['\\n'].is_stop\n",
    "\n",
    "nlp.Defaults.stop_words.add('\\n')\n",
    "nlp.vocab['\\n'].is_stop = True\n",
    "\n",
    "nlp.Defaults.stop_words.add('\\n\\n')\n",
    "nlp.vocab['\\n\\n'].is_stop = True"
   ]
  },
  {
   "cell_type": "code",
   "execution_count": null,
   "metadata": {},
   "outputs": [],
   "source": [
    "# Verify the addition\n",
    "nlp.vocab['\\n\\n'].is_stop"
   ]
  },
  {
   "cell_type": "code",
   "execution_count": null,
   "metadata": {},
   "outputs": [],
   "source": [
    "# Clean the text \n",
    "token_tot = list()\n",
    "for i in range(len(docs)):\n",
    "    tokens_i = [token.text.lower() for token in docs[i] if not token.is_stop]\n",
    "    token_tot.append(tokens_i)\n"
   ]
  },
  {
   "cell_type": "code",
   "execution_count": null,
   "metadata": {},
   "outputs": [],
   "source": []
  },
  {
   "cell_type": "code",
   "execution_count": null,
   "metadata": {},
   "outputs": [],
   "source": []
  },
  {
   "cell_type": "markdown",
   "metadata": {},
   "source": [
    "# Import Gensim"
   ]
  },
  {
   "cell_type": "code",
   "execution_count": null,
   "metadata": {},
   "outputs": [],
   "source": [
    "import numpy as np\n",
    "import gensim\n",
    "from gensim.corpora import Dictionary\n",
    "from gensim.models.tfidfmodel import TfidfModel\n",
    "from gensim.matutils import sparse2full\n",
    "from pprint import pprint\n"
   ]
  },
  {
   "cell_type": "code",
   "execution_count": null,
   "metadata": {},
   "outputs": [],
   "source": [
    "# Dictionary of the whole corpus\n",
    "#dataset = [d.split() for d in token_tot] \n",
    "dictionary = Dictionary(token_tot)"
   ]
  },
  {
   "cell_type": "code",
   "execution_count": null,
   "metadata": {},
   "outputs": [],
   "source": [
    "# The corpus\n",
    "docs_corpus = [dictionary.doc2bow(doc) for doc in token_tot]\n"
   ]
  },
  {
   "cell_type": "code",
   "execution_count": null,
   "metadata": {},
   "outputs": [],
   "source": []
  },
  {
   "cell_type": "code",
   "execution_count": null,
   "metadata": {},
   "outputs": [],
   "source": [
    "from gensim import models\n",
    "import numpy as np\n",
    "\n",
    "\n",
    "\n",
    "# Show the Word Weights in Corpus\n",
    "#for doc in docs_corpus:\n",
    "   # print([[dictionary[id], freq] for id, freq in doc])\n",
    "\n",
    "# Create the TF-IDF model\n",
    "tfidf = models.TfidfModel(docs_corpus, smartirs='ntc')\n",
    "\n",
    "# Show the TF-IDF weights\n",
    "for doc in tfidf[docs_corpus]:\n",
    "    print([[dictionary[id], np.around(freq, decimals=3)] for id, freq in doc])\n",
    "# [['first', 0.66], ['is', 0.24], ['line', 0.66], ['the', 0.24]]\n",
    "# [['is', 0.24], ['the', 0.24], ['second', 0.66], ['sentence', 0.66]]\n",
    "# [['document', 0.71], ['third', 0.71]]\n"
   ]
  },
  {
   "cell_type": "code",
   "execution_count": null,
   "metadata": {},
   "outputs": [],
   "source": []
  },
  {
   "cell_type": "markdown",
   "metadata": {},
   "source": [
    "# Construct Negative dictionary "
   ]
  },
  {
   "cell_type": "code",
   "execution_count": null,
   "metadata": {},
   "outputs": [],
   "source": [
    "# The negative word list\n",
    "texts_org = ' adverse dim feeble mizshap struggle afflict disappoint feverish negative suffer alarming disappointment fragile nervousness terrorism apprehension disaster gloom offensive threat apprehensive discomfort gloomy painful tragedy awkward discouragement grim paltry tragic bad dismal harsh pessimistic trouble badly disrupt havoc plague turmoil bitter disruption hit plight unattractive bleak dissatisfied horrible poor undermine bug distort hurt recession undesirable burdensome distortion illegal sank uneasiness corrosive distress insecurity scandal uneasy danger doldrums insidious scare unfavorable daunting downbeat instability sequester unforeseen deadlock emergency interfere sluggish unprofitable deficient erode jeopardize slump unrest depress fail jeopardy sour violent depression failure lack sputter war destruction fake languish stagnant devastation falter loss standstill'"
   ]
  },
  {
   "cell_type": "code",
   "execution_count": null,
   "metadata": {},
   "outputs": [],
   "source": [
    "# Tokenize(split) the sentences into words\n",
    "texts = [[doc] for doc in texts_org.split()]"
   ]
  },
  {
   "cell_type": "code",
   "execution_count": null,
   "metadata": {},
   "outputs": [],
   "source": [
    "MyDict_neg = Dictionary(texts)"
   ]
  },
  {
   "cell_type": "code",
   "execution_count": null,
   "metadata": {},
   "outputs": [],
   "source": [
    "print(MyDict_neg)"
   ]
  },
  {
   "cell_type": "code",
   "execution_count": null,
   "metadata": {},
   "outputs": [],
   "source": [
    "'adverse' in MyDict_neg.token2id"
   ]
  },
  {
   "cell_type": "code",
   "execution_count": null,
   "metadata": {},
   "outputs": [],
   "source": [
    "# express the tf result\n",
    "tf_result = list()\n",
    "for doc in tfidf[docs_corpus]:\n",
    "    tf_result.append([[dictionary[id], np.around(freq, decimals=8)] for id, freq in doc])"
   ]
  },
  {
   "cell_type": "code",
   "execution_count": null,
   "metadata": {},
   "outputs": [],
   "source": [
    "i = 1\n",
    "pn_corpus_neg = list()\n",
    "\n",
    "for doc in tf_result:\n",
    "    pn_doc = list()\n",
    "    for [word, freq] in doc:\n",
    "            if word in MyDict_neg.token2id:\n",
    "                pn_doc.append([word, freq])\n",
    "    pn_corpus_neg.append(pn_doc)"
   ]
  },
  {
   "cell_type": "code",
   "execution_count": null,
   "metadata": {},
   "outputs": [],
   "source": [
    "pn_corpus_neg"
   ]
  },
  {
   "cell_type": "markdown",
   "metadata": {},
   "source": [
    "# Construct positive dictionary"
   ]
  },
  {
   "cell_type": "code",
   "execution_count": null,
   "metadata": {},
   "outputs": [],
   "source": [
    "MyDict_pos = \"assurance confident exuberant joy prominent Satisfactory unlimited assure constancy facilitate liberal promise Satisfy upbeat attain constructive faith lucrative prompt Sound upgrade attractive cooperate favor manageable proper Soundness uplift auspicious coordinate favorable mediate prosperity Spectacular upside backing credible feasible mend rally Stabilize upward befitting decent fervor mindful readily Stable valid beneficial definitive filial moderation reassure Stable viable beneficiary deserve flatter onward receptive Steadiness victorious benefit desirable flourish opportunity reconcile Steady virtuous benign discern fond optimism refine Stimulate vitality better distinction foster optimistic reinstate Stimulation warm bloom distinguish friendly outrun relaxation Subscribe welcome bolster durability gain outstanding reliable Succeed boom eager generous overcome relief Success boost earnest genuine paramount relieve Successful bountiful ease good particular remarkable Suffice bright easy happy patience remarkably Suit buoyant encourage heal patient repair Support calm encouragement healthy peaceful rescue Supportive celebrate endorse helpful persuasive resolve Surge coherent energetic hope pleasant resolved Surpass comeback engage hopeful please respectable Sweeten comfort enhance hospitable pleased respite Sympathetic comfortable enhancement imperative plentiful restoration Sympathy commend enjoy impetus plenty restore Synthesis compensate enrichment impress positive revival Temperate composure enthusiasm impressive potent revive Thorough concession enthusiastic improve precious ripe Tolerant concur envision improvement pretty rosy tranquil conducive excellent inspire progress salutary tremendous confide exuberance irresistible progressive sanguine undoubtedly\""
   ]
  },
  {
   "cell_type": "code",
   "execution_count": null,
   "metadata": {},
   "outputs": [],
   "source": [
    "MyDict_pos =str.lower(MyDict_pos)"
   ]
  },
  {
   "cell_type": "code",
   "execution_count": null,
   "metadata": {},
   "outputs": [],
   "source": [
    "# Tokenize(split) the sentences into words\n",
    "texts = [[doc] for doc in MyDict_pos.split()]"
   ]
  },
  {
   "cell_type": "code",
   "execution_count": null,
   "metadata": {},
   "outputs": [],
   "source": [
    "MyDict_pos = Dictionary(texts)"
   ]
  },
  {
   "cell_type": "code",
   "execution_count": null,
   "metadata": {},
   "outputs": [],
   "source": [
    "print(MyDict_pos)"
   ]
  },
  {
   "cell_type": "code",
   "execution_count": null,
   "metadata": {},
   "outputs": [],
   "source": [
    "'assurance' in MyDict_pos.token2id"
   ]
  },
  {
   "cell_type": "code",
   "execution_count": null,
   "metadata": {},
   "outputs": [],
   "source": [
    "i = 1\n",
    "pn_corpus_pos = list()\n",
    "\n",
    "for doc in tf_result:\n",
    "    pn_doc = list()\n",
    "    for [word, freq] in doc:\n",
    "            if word in MyDict_pos.token2id:\n",
    "                pn_doc.append([word, freq])\n",
    "    pn_corpus_pos.append(pn_doc)\n",
    "                "
   ]
  },
  {
   "cell_type": "code",
   "execution_count": null,
   "metadata": {},
   "outputs": [],
   "source": [
    "calc_corpus = list()\n",
    "\n",
    "for i in range(len(pn_corpus_pos)):\n",
    "    calc_corpus.append((pn_corpus_pos[i], pn_corpus_neg[i]))"
   ]
  },
  {
   "cell_type": "code",
   "execution_count": null,
   "metadata": {},
   "outputs": [],
   "source": [
    "DocMetric= list()\n",
    "for doc in calc_corpus:\n",
    "    posfreq_sum = 0\n",
    "    negfreq_sum = 0 \n",
    "    for pos_word, freq in doc[0]:\n",
    "        posfreq_sum += freq\n",
    "        #print(posfreq_sum)\n",
    "    for neg_word, freq in doc[1]:\n",
    "        negfreq_sum += freq\n",
    "            #print(negfreq_sum)   \n",
    "    DocMetric.append([posfreq_sum, negfreq_sum])\n"
   ]
  },
  {
   "cell_type": "code",
   "execution_count": null,
   "metadata": {},
   "outputs": [],
   "source": [
    "sentiment_index = [pos - neg for pos, neg in DocMetric ]"
   ]
  },
  {
   "cell_type": "code",
   "execution_count": null,
   "metadata": {},
   "outputs": [],
   "source": [
    "sentiment_index[1]"
   ]
  },
  {
   "cell_type": "markdown",
   "metadata": {},
   "source": [
    "# Add timestamp"
   ]
  },
  {
   "cell_type": "code",
   "execution_count": null,
   "metadata": {},
   "outputs": [],
   "source": [
    "Dates = list()\n",
    "for i in range(3856):\n",
    "    Dates.append(df_all.iloc[i].Date)\n"
   ]
  },
  {
   "cell_type": "code",
   "execution_count": null,
   "metadata": {},
   "outputs": [],
   "source": [
    "to_df_reg = list(zip(Dates, sentiment_index))"
   ]
  },
  {
   "cell_type": "markdown",
   "metadata": {},
   "source": [
    "# Convert into DataFrame"
   ]
  },
  {
   "cell_type": "code",
   "execution_count": null,
   "metadata": {},
   "outputs": [],
   "source": [
    "import pandas as pd"
   ]
  },
  {
   "cell_type": "code",
   "execution_count": null,
   "metadata": {},
   "outputs": [],
   "source": []
  },
  {
   "cell_type": "code",
   "execution_count": null,
   "metadata": {},
   "outputs": [],
   "source": [
    "df"
   ]
  },
  {
   "cell_type": "code",
   "execution_count": null,
   "metadata": {},
   "outputs": [],
   "source": [
    "def argument(x):\n",
    "    try:\n",
    "        return pd.to_datetime(x)\n",
    "    except:\n",
    "        \"None\""
   ]
  },
  {
   "cell_type": "code",
   "execution_count": null,
   "metadata": {},
   "outputs": [],
   "source": [
    "df['date'] = df['Date'].apply(lambda Date: argument(Date))\n"
   ]
  },
  {
   "cell_type": "code",
   "execution_count": null,
   "metadata": {},
   "outputs": [],
   "source": [
    "df"
   ]
  },
  {
   "cell_type": "code",
   "execution_count": null,
   "metadata": {},
   "outputs": [],
   "source": [
    "# save sentiment for each article \n",
    "df.to_pickle(r\"C:\\Users\\shaos\\Desktop\\BrexitCorpus\\sent_by_arti.pkl\")"
   ]
  },
  {
   "cell_type": "code",
   "execution_count": null,
   "metadata": {},
   "outputs": [],
   "source": [
    "df_groupby = df.groupby(\"date\")[\"Sentiment\"].describe()"
   ]
  },
  {
   "cell_type": "code",
   "execution_count": null,
   "metadata": {},
   "outputs": [],
   "source": [
    "df_groupby"
   ]
  },
  {
   "cell_type": "code",
   "execution_count": null,
   "metadata": {},
   "outputs": [],
   "source": [
    "df_output = pd.DataFrame()"
   ]
  },
  {
   "cell_type": "code",
   "execution_count": null,
   "metadata": {},
   "outputs": [],
   "source": [
    "df_output['Sentiment_mean']=df_groupby['mean']\n",
    "df_output['TitleDate']=df_groupby.index"
   ]
  },
  {
   "cell_type": "code",
   "execution_count": null,
   "metadata": {},
   "outputs": [],
   "source": [
    "df_output"
   ]
  },
  {
   "cell_type": "code",
   "execution_count": null,
   "metadata": {},
   "outputs": [],
   "source": [
    "export_excel = df_output.to_excel (r'C:\\Users\\shaos\\Desktop\\NLP_Research\\tf_idf_output_sep24.xlsx', index = True, header=True) #Don't forget to add '.xlsx' at the end of the path"
   ]
  }
 ],
 "metadata": {
  "kernelspec": {
   "display_name": "Python 3",
   "language": "python",
   "name": "python3"
  },
  "language_info": {
   "codemirror_mode": {
    "name": "ipython",
    "version": 3
   },
   "file_extension": ".py",
   "mimetype": "text/x-python",
   "name": "python",
   "nbconvert_exporter": "python",
   "pygments_lexer": "ipython3",
   "version": "3.7.3"
  }
 },
 "nbformat": 4,
 "nbformat_minor": 2
}
